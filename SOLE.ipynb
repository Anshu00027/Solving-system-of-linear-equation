{
 "cells": [
  {
   "cell_type": "markdown",
   "metadata": {},
   "source": [
    "# Gauss Elimination Method"
   ]
  },
  {
   "cell_type": "code",
   "execution_count": 1,
   "metadata": {},
   "outputs": [
    {
     "name": "stdout",
     "output_type": "stream",
     "text": [
      "[[ 2.  1.  1.  6.]\n",
      " [ 1.  3. -1.  0.]\n",
      " [-1.  1.  2.  3.]]\n",
      "sol [[1.76470588]\n",
      " [0.17647059]\n",
      " [2.29411765]]\n",
      "The cost of computation is  0:00:00.001143\n"
     ]
    }
   ],
   "source": [
    "from datetime import datetime as dt\n",
    "import numpy as np\n",
    "from numpy import Infinity\n",
    "# r=int(input(\"no of rows\"))\n",
    "# c=int(input(\"no of columns\"))\n",
    "# m=[]\n",
    "# for H in range(r):\n",
    "#     l=[]\n",
    "#     for K in range(c):\n",
    "#         u=float(input(\"enter the element rowise\"))\n",
    "#         l.append(u)\n",
    "#         print(l)\n",
    "#     m.append(l)\n",
    "#     a=np.array(m)\n",
    "# print(a)\n",
    "# q=[]\n",
    "# for H in range(r):\n",
    "#     l=[]\n",
    "#     for K in range(1):\n",
    "#         u=float(input(\"enter the element b\"))\n",
    "#         l.append(u)\n",
    "#     q.append(l)\n",
    "#     b=np.array(q,dtype=np.float64)\n",
    "# print(b)\n",
    "\n",
    "a=np.array([[2,1,1],[1,3,-1],[-1,1,2]],dtype=np.float64)\n",
    "b=np.array([[6],[0],[3]],dtype=np.float64)\n",
    "itime=dt.now()\n",
    "r=3\n",
    "c=3\n",
    "# #Diagonal Dominant\n",
    "# def DD(A): \n",
    "#     for i in range(0,len(A)):\n",
    "#         sum = 0 \n",
    "#         for j in range(0,len(A)):\n",
    "#                 sum = sum+abs(A[i][j])\n",
    "#         sum = sum - abs(A[i][i])\n",
    "#         # print(sum)\n",
    "\n",
    "#         if abs(A[i][i])<=sum:\n",
    "#             return False\n",
    "#     return True\n",
    "    \n",
    "red=np.empty([r,c+1])\n",
    "mat=np.concatenate((a,b),axis=1,dtype=np.float64)\n",
    "print(mat)\n",
    "sol=np.empty([len(mat),1])\n",
    "m=0\n",
    "while m<r:\n",
    "    for i in range(m,r):\n",
    "        L=mat[i][m]\n",
    "        for j in range(m,c+1):\n",
    "            red[i][j]=mat[i][j]/L\n",
    "    for k in range(m+1,r):\n",
    "        for l in range(m,c+1):\n",
    "            red[k][l]=red[k][l]-red[m][l]\n",
    "            mat=red\n",
    "    m=m+1\n",
    "# BACK SUBSTITUTION \n",
    "m=len(mat)-1\n",
    "n=len(mat[0])-1\n",
    "sol[m]=mat[m][n]\n",
    "if sol[m]==Infinity:\n",
    "    print(\"solution does't exist\")\n",
    "else:\n",
    "    for i in range(m,-1,-1):\n",
    "        sol[i] = mat[i][n]\n",
    "        for j in range(i+1,n):\n",
    "            sol[i] = sol[i]-mat[i][j]*sol[j]\n",
    "    print(\"sol\",sol)\n",
    "ftime=dt.now()\n",
    "print(\"The cost of computation is \",ftime-itime)\n",
    "\n",
    "\n"
   ]
  }
 ],
 "metadata": {
  "kernelspec": {
   "display_name": "base",
   "language": "python",
   "name": "python3"
  },
  "language_info": {
   "codemirror_mode": {
    "name": "ipython",
    "version": 3
   },
   "file_extension": ".py",
   "mimetype": "text/x-python",
   "name": "python",
   "nbconvert_exporter": "python",
   "pygments_lexer": "ipython3",
   "version": "3.12.4"
  }
 },
 "nbformat": 4,
 "nbformat_minor": 2
}
